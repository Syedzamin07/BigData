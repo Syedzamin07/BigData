{
  "cells": [
    {
      "cell_type": "markdown",
      "metadata": {
        "id": "ubE7nmSUmusy"
      },
      "source": [
        "# ***Imports***"
      ]
    },
    {
      "cell_type": "code",
      "execution_count": null,
      "metadata": {
        "id": "yHQHRHuom1is"
      },
      "outputs": [],
      "source": [
        "import os\n",
        "from pyspark.sql.functions import count\n",
        "import pandas as pd\n",
        "from scipy import stats"
      ]
    },
    {
      "cell_type": "markdown",
      "metadata": {
        "id": "TEql4kdkXB2y"
      },
      "source": [
        "# **Loading a Dataset**"
      ]
    },
    {
      "cell_type": "code",
      "execution_count": null,
      "metadata": {
        "colab": {
          "base_uri": "https://localhost:8080/"
        },
        "id": "zR_BomSXZNRC",
        "outputId": "7b9d33f7-1fb4-4487-f51e-4ea80076bc44"
      },
      "outputs": [
        {
          "name": "stdout",
          "output_type": "stream",
          "text": [
            "Drive already mounted at /content/drive; to attempt to forcibly remount, call drive.mount(\"/content/drive\", force_remount=True).\n"
          ]
        }
      ],
      "source": [
        "from google.colab import drive\n",
        "drive.mount('/content/drive')\n"
      ]
    },
    {
      "cell_type": "code",
      "execution_count": null,
      "metadata": {
        "colab": {
          "base_uri": "https://localhost:8080/"
        },
        "id": "2o-tfH-PXpJt",
        "outputId": "738c9fe1-0835-4120-d3c8-e791df28adec"
      },
      "outputs": [
        {
          "name": "stdout",
          "output_type": "stream",
          "text": [
            "Extraction complete.\n"
          ]
        }
      ],
      "source": [
        "import zipfile\n",
        "\n",
        "# Path to the archive file\n",
        "archive_path = '/content/drive/My Drive/MMU/Assignments/HPC/archive.zip'\n",
        "\n",
        "# Define the folder to extract the contents\n",
        "extracted_folder_path = '/content/drive/My Drive/MMU/Assignments/HPC/extracted_data/'\n",
        "\n",
        "# Extract the ZIP file\n",
        "with zipfile.ZipFile(archive_path, 'r') as zip_ref:\n",
        "    zip_ref.extractall(extracted_folder_path)\n",
        "\n",
        "print(\"Extraction complete.\")\n"
      ]
    },
    {
      "cell_type": "code",
      "execution_count": null,
      "metadata": {
        "colab": {
          "base_uri": "https://localhost:8080/"
        },
        "id": "zrtJCPHLfgAg",
        "outputId": "8e66c1d2-5d7c-43e3-985b-69fa52b68676"
      },
      "outputs": [
        {
          "data": {
            "text/plain": [
              "['ratings_Electronics (1).csv']"
            ]
          },
          "execution_count": 78,
          "metadata": {},
          "output_type": "execute_result"
        }
      ],
      "source": [
        "# List the extracted files\n",
        "extracted_files = os.listdir(extracted_folder_path)\n",
        "extracted_files\n"
      ]
    },
    {
      "cell_type": "markdown",
      "metadata": {
        "id": "I3NkzYzUsOyN"
      },
      "source": [
        "**Load the CSV File**"
      ]
    },
    {
      "cell_type": "code",
      "execution_count": null,
      "metadata": {
        "colab": {
          "base_uri": "https://localhost:8080/",
          "height": 206
        },
        "id": "aXk26i8kXF3q",
        "outputId": "6c186f26-ccc9-4eed-ab42-b531a4bbba89"
      },
      "outputs": [
        {
          "data": {
            "application/vnd.google.colaboratory.intrinsic+json": {
              "type": "dataframe",
              "variable_name": "df"
            },
            "text/html": [
              "\n",
              "  <div id=\"df-629bd3f5-7ae0-431a-ba45-ecf25a676039\" class=\"colab-df-container\">\n",
              "    <div>\n",
              "<style scoped>\n",
              "    .dataframe tbody tr th:only-of-type {\n",
              "        vertical-align: middle;\n",
              "    }\n",
              "\n",
              "    .dataframe tbody tr th {\n",
              "        vertical-align: top;\n",
              "    }\n",
              "\n",
              "    .dataframe thead th {\n",
              "        text-align: right;\n",
              "    }\n",
              "</style>\n",
              "<table border=\"1\" class=\"dataframe\">\n",
              "  <thead>\n",
              "    <tr style=\"text-align: right;\">\n",
              "      <th></th>\n",
              "      <th>AKM1MP6P0OYPR</th>\n",
              "      <th>0132793040</th>\n",
              "      <th>5.0</th>\n",
              "      <th>1365811200</th>\n",
              "    </tr>\n",
              "  </thead>\n",
              "  <tbody>\n",
              "    <tr>\n",
              "      <th>0</th>\n",
              "      <td>A2CX7LUOHB2NDG</td>\n",
              "      <td>0321732944</td>\n",
              "      <td>5.0</td>\n",
              "      <td>1341100800</td>\n",
              "    </tr>\n",
              "    <tr>\n",
              "      <th>1</th>\n",
              "      <td>A2NWSAGRHCP8N5</td>\n",
              "      <td>0439886341</td>\n",
              "      <td>1.0</td>\n",
              "      <td>1367193600</td>\n",
              "    </tr>\n",
              "    <tr>\n",
              "      <th>2</th>\n",
              "      <td>A2WNBOD3WNDNKT</td>\n",
              "      <td>0439886341</td>\n",
              "      <td>3.0</td>\n",
              "      <td>1374451200</td>\n",
              "    </tr>\n",
              "    <tr>\n",
              "      <th>3</th>\n",
              "      <td>A1GI0U4ZRJA8WN</td>\n",
              "      <td>0439886341</td>\n",
              "      <td>1.0</td>\n",
              "      <td>1334707200</td>\n",
              "    </tr>\n",
              "    <tr>\n",
              "      <th>4</th>\n",
              "      <td>A1QGNMC6O1VW39</td>\n",
              "      <td>0511189877</td>\n",
              "      <td>5.0</td>\n",
              "      <td>1397433600</td>\n",
              "    </tr>\n",
              "  </tbody>\n",
              "</table>\n",
              "</div>\n",
              "    <div class=\"colab-df-buttons\">\n",
              "\n",
              "  <div class=\"colab-df-container\">\n",
              "    <button class=\"colab-df-convert\" onclick=\"convertToInteractive('df-629bd3f5-7ae0-431a-ba45-ecf25a676039')\"\n",
              "            title=\"Convert this dataframe to an interactive table.\"\n",
              "            style=\"display:none;\">\n",
              "\n",
              "  <svg xmlns=\"http://www.w3.org/2000/svg\" height=\"24px\" viewBox=\"0 -960 960 960\">\n",
              "    <path d=\"M120-120v-720h720v720H120Zm60-500h600v-160H180v160Zm220 220h160v-160H400v160Zm0 220h160v-160H400v160ZM180-400h160v-160H180v160Zm440 0h160v-160H620v160ZM180-180h160v-160H180v160Zm440 0h160v-160H620v160Z\"/>\n",
              "  </svg>\n",
              "    </button>\n",
              "\n",
              "  <style>\n",
              "    .colab-df-container {\n",
              "      display:flex;\n",
              "      gap: 12px;\n",
              "    }\n",
              "\n",
              "    .colab-df-convert {\n",
              "      background-color: #E8F0FE;\n",
              "      border: none;\n",
              "      border-radius: 50%;\n",
              "      cursor: pointer;\n",
              "      display: none;\n",
              "      fill: #1967D2;\n",
              "      height: 32px;\n",
              "      padding: 0 0 0 0;\n",
              "      width: 32px;\n",
              "    }\n",
              "\n",
              "    .colab-df-convert:hover {\n",
              "      background-color: #E2EBFA;\n",
              "      box-shadow: 0px 1px 2px rgba(60, 64, 67, 0.3), 0px 1px 3px 1px rgba(60, 64, 67, 0.15);\n",
              "      fill: #174EA6;\n",
              "    }\n",
              "\n",
              "    .colab-df-buttons div {\n",
              "      margin-bottom: 4px;\n",
              "    }\n",
              "\n",
              "    [theme=dark] .colab-df-convert {\n",
              "      background-color: #3B4455;\n",
              "      fill: #D2E3FC;\n",
              "    }\n",
              "\n",
              "    [theme=dark] .colab-df-convert:hover {\n",
              "      background-color: #434B5C;\n",
              "      box-shadow: 0px 1px 3px 1px rgba(0, 0, 0, 0.15);\n",
              "      filter: drop-shadow(0px 1px 2px rgba(0, 0, 0, 0.3));\n",
              "      fill: #FFFFFF;\n",
              "    }\n",
              "  </style>\n",
              "\n",
              "    <script>\n",
              "      const buttonEl =\n",
              "        document.querySelector('#df-629bd3f5-7ae0-431a-ba45-ecf25a676039 button.colab-df-convert');\n",
              "      buttonEl.style.display =\n",
              "        google.colab.kernel.accessAllowed ? 'block' : 'none';\n",
              "\n",
              "      async function convertToInteractive(key) {\n",
              "        const element = document.querySelector('#df-629bd3f5-7ae0-431a-ba45-ecf25a676039');\n",
              "        const dataTable =\n",
              "          await google.colab.kernel.invokeFunction('convertToInteractive',\n",
              "                                                    [key], {});\n",
              "        if (!dataTable) return;\n",
              "\n",
              "        const docLinkHtml = 'Like what you see? Visit the ' +\n",
              "          '<a target=\"_blank\" href=https://colab.research.google.com/notebooks/data_table.ipynb>data table notebook</a>'\n",
              "          + ' to learn more about interactive tables.';\n",
              "        element.innerHTML = '';\n",
              "        dataTable['output_type'] = 'display_data';\n",
              "        await google.colab.output.renderOutput(dataTable, element);\n",
              "        const docLink = document.createElement('div');\n",
              "        docLink.innerHTML = docLinkHtml;\n",
              "        element.appendChild(docLink);\n",
              "      }\n",
              "    </script>\n",
              "  </div>\n",
              "\n",
              "\n",
              "    <div id=\"df-2823a2ae-ec6e-4dd6-b675-5f28e0a9ef84\">\n",
              "      <button class=\"colab-df-quickchart\" onclick=\"quickchart('df-2823a2ae-ec6e-4dd6-b675-5f28e0a9ef84')\"\n",
              "                title=\"Suggest charts\"\n",
              "                style=\"display:none;\">\n",
              "\n",
              "<svg xmlns=\"http://www.w3.org/2000/svg\" height=\"24px\"viewBox=\"0 0 24 24\"\n",
              "     width=\"24px\">\n",
              "    <g>\n",
              "        <path d=\"M19 3H5c-1.1 0-2 .9-2 2v14c0 1.1.9 2 2 2h14c1.1 0 2-.9 2-2V5c0-1.1-.9-2-2-2zM9 17H7v-7h2v7zm4 0h-2V7h2v10zm4 0h-2v-4h2v4z\"/>\n",
              "    </g>\n",
              "</svg>\n",
              "      </button>\n",
              "\n",
              "<style>\n",
              "  .colab-df-quickchart {\n",
              "      --bg-color: #E8F0FE;\n",
              "      --fill-color: #1967D2;\n",
              "      --hover-bg-color: #E2EBFA;\n",
              "      --hover-fill-color: #174EA6;\n",
              "      --disabled-fill-color: #AAA;\n",
              "      --disabled-bg-color: #DDD;\n",
              "  }\n",
              "\n",
              "  [theme=dark] .colab-df-quickchart {\n",
              "      --bg-color: #3B4455;\n",
              "      --fill-color: #D2E3FC;\n",
              "      --hover-bg-color: #434B5C;\n",
              "      --hover-fill-color: #FFFFFF;\n",
              "      --disabled-bg-color: #3B4455;\n",
              "      --disabled-fill-color: #666;\n",
              "  }\n",
              "\n",
              "  .colab-df-quickchart {\n",
              "    background-color: var(--bg-color);\n",
              "    border: none;\n",
              "    border-radius: 50%;\n",
              "    cursor: pointer;\n",
              "    display: none;\n",
              "    fill: var(--fill-color);\n",
              "    height: 32px;\n",
              "    padding: 0;\n",
              "    width: 32px;\n",
              "  }\n",
              "\n",
              "  .colab-df-quickchart:hover {\n",
              "    background-color: var(--hover-bg-color);\n",
              "    box-shadow: 0 1px 2px rgba(60, 64, 67, 0.3), 0 1px 3px 1px rgba(60, 64, 67, 0.15);\n",
              "    fill: var(--button-hover-fill-color);\n",
              "  }\n",
              "\n",
              "  .colab-df-quickchart-complete:disabled,\n",
              "  .colab-df-quickchart-complete:disabled:hover {\n",
              "    background-color: var(--disabled-bg-color);\n",
              "    fill: var(--disabled-fill-color);\n",
              "    box-shadow: none;\n",
              "  }\n",
              "\n",
              "  .colab-df-spinner {\n",
              "    border: 2px solid var(--fill-color);\n",
              "    border-color: transparent;\n",
              "    border-bottom-color: var(--fill-color);\n",
              "    animation:\n",
              "      spin 1s steps(1) infinite;\n",
              "  }\n",
              "\n",
              "  @keyframes spin {\n",
              "    0% {\n",
              "      border-color: transparent;\n",
              "      border-bottom-color: var(--fill-color);\n",
              "      border-left-color: var(--fill-color);\n",
              "    }\n",
              "    20% {\n",
              "      border-color: transparent;\n",
              "      border-left-color: var(--fill-color);\n",
              "      border-top-color: var(--fill-color);\n",
              "    }\n",
              "    30% {\n",
              "      border-color: transparent;\n",
              "      border-left-color: var(--fill-color);\n",
              "      border-top-color: var(--fill-color);\n",
              "      border-right-color: var(--fill-color);\n",
              "    }\n",
              "    40% {\n",
              "      border-color: transparent;\n",
              "      border-right-color: var(--fill-color);\n",
              "      border-top-color: var(--fill-color);\n",
              "    }\n",
              "    60% {\n",
              "      border-color: transparent;\n",
              "      border-right-color: var(--fill-color);\n",
              "    }\n",
              "    80% {\n",
              "      border-color: transparent;\n",
              "      border-right-color: var(--fill-color);\n",
              "      border-bottom-color: var(--fill-color);\n",
              "    }\n",
              "    90% {\n",
              "      border-color: transparent;\n",
              "      border-bottom-color: var(--fill-color);\n",
              "    }\n",
              "  }\n",
              "</style>\n",
              "\n",
              "      <script>\n",
              "        async function quickchart(key) {\n",
              "          const quickchartButtonEl =\n",
              "            document.querySelector('#' + key + ' button');\n",
              "          quickchartButtonEl.disabled = true;  // To prevent multiple clicks.\n",
              "          quickchartButtonEl.classList.add('colab-df-spinner');\n",
              "          try {\n",
              "            const charts = await google.colab.kernel.invokeFunction(\n",
              "                'suggestCharts', [key], {});\n",
              "          } catch (error) {\n",
              "            console.error('Error during call to suggestCharts:', error);\n",
              "          }\n",
              "          quickchartButtonEl.classList.remove('colab-df-spinner');\n",
              "          quickchartButtonEl.classList.add('colab-df-quickchart-complete');\n",
              "        }\n",
              "        (() => {\n",
              "          let quickchartButtonEl =\n",
              "            document.querySelector('#df-2823a2ae-ec6e-4dd6-b675-5f28e0a9ef84 button');\n",
              "          quickchartButtonEl.style.display =\n",
              "            google.colab.kernel.accessAllowed ? 'block' : 'none';\n",
              "        })();\n",
              "      </script>\n",
              "    </div>\n",
              "\n",
              "    </div>\n",
              "  </div>\n"
            ],
            "text/plain": [
              "    AKM1MP6P0OYPR  0132793040  5.0  1365811200\n",
              "0  A2CX7LUOHB2NDG  0321732944  5.0  1341100800\n",
              "1  A2NWSAGRHCP8N5  0439886341  1.0  1367193600\n",
              "2  A2WNBOD3WNDNKT  0439886341  3.0  1374451200\n",
              "3  A1GI0U4ZRJA8WN  0439886341  1.0  1334707200\n",
              "4  A1QGNMC6O1VW39  0511189877  5.0  1397433600"
            ]
          },
          "execution_count": 79,
          "metadata": {},
          "output_type": "execute_result"
        }
      ],
      "source": [
        "import pandas as pd\n",
        "\n",
        "# Path to the CSV file\n",
        "csv_path = '/content/drive/My Drive/MMU/Assignments/HPC/extracted_data/ratings_Electronics (1).csv'\n",
        "\n",
        "# Load the CSV file into a Pandas DataFrame\n",
        "df = pd.read_csv(csv_path)\n",
        "\n",
        "# Display the first few rows of the DataFrame\n",
        "df.head()\n"
      ]
    },
    {
      "cell_type": "markdown",
      "metadata": {
        "id": "9Ql558gxepOx"
      },
      "source": [
        "# ***PART:1***"
      ]
    },
    {
      "cell_type": "markdown",
      "metadata": {
        "id": "7TRMXI75Uw3c"
      },
      "source": [
        "# **PySpark Setup**"
      ]
    },
    {
      "cell_type": "code",
      "execution_count": null,
      "metadata": {
        "id": "O6yqTIdlzMIp"
      },
      "outputs": [],
      "source": [
        "# Install Java\n",
        "!apt-get install openjdk-8-jdk-headless -qq > /dev/null\n",
        "\n",
        "# Download Spark 3.4.1 with Hadoop 3.3 from a working Apache archive\n",
        "!wget -q https://archive.apache.org/dist/spark/spark-3.4.1/spark-3.4.1-bin-hadoop3.tgz\n",
        "\n",
        "# Extract Spark\n",
        "!tar -xzf spark-3.4.1-bin-hadoop3.tgz\n",
        "\n",
        "# Install findspark\n",
        "!pip install -q findspark\n",
        "\n",
        "# Set environment variables\n",
        "import os\n",
        "os.environ[\"JAVA_HOME\"] = \"/usr/lib/jvm/java-8-openjdk-amd64\"\n",
        "os.environ[\"SPARK_HOME\"] = \"/content/spark-3.4.1-bin-hadoop3\"\n",
        "\n",
        "# Initialize findspark\n",
        "import findspark\n",
        "findspark.init()\n"
      ]
    },
    {
      "cell_type": "code",
      "execution_count": null,
      "metadata": {
        "colab": {
          "base_uri": "https://localhost:8080/"
        },
        "id": "uIF5iyxWzm4W",
        "outputId": "5a4d0378-6989-4d04-a43d-f874f7e2f75d"
      },
      "outputs": [
        {
          "name": "stdout",
          "output_type": "stream",
          "text": [
            "-rw-r--r-- 1 root root 388341449 Jun 19  2023 spark-3.4.1-bin-hadoop3.tgz\n"
          ]
        }
      ],
      "source": [
        "!ls -l spark-3.4.1-bin-hadoop3.tgz\n"
      ]
    },
    {
      "cell_type": "markdown",
      "metadata": {
        "id": "d2Guw3cmz_Iy"
      },
      "source": [
        "# **Step 1: Prepare Spark + Scala and Load Data and Convert Timestamps**"
      ]
    },
    {
      "cell_type": "markdown",
      "metadata": {
        "id": "kqy80GoW0Lou"
      },
      "source": [
        "***1. Create SparkSession***\n",
        "\n",
        "This line initializes a Spark session, which is required to work with DataFrames in Spark. The session is named \"Amazon Reviews - Q2 2014 Filter\".\n",
        "\n",
        "getOrCreate() checks if there is already a Spark session running. If not, it creates a new one."
      ]
    },
    {
      "cell_type": "code",
      "execution_count": null,
      "metadata": {
        "id": "w92B7Y5K0Brl"
      },
      "outputs": [],
      "source": [
        "from pyspark.sql import SparkSession\n",
        "\n",
        "spark = SparkSession.builder \\\n",
        "    .appName(\"Amazon Reviews - Q2 2014 Filter\") \\\n",
        "    .getOrCreate()"
      ]
    },
    {
      "cell_type": "code",
      "execution_count": null,
      "metadata": {
        "id": "qz3cqDZ0aWVK"
      },
      "outputs": [],
      "source": [
        "# # ✅ Enable Arrow for .toPandas() to work\n",
        "# spark.conf.set(\"spark.sql.execution.arrow.pyspark.enabled\", \"true\")"
      ]
    },
    {
      "cell_type": "code",
      "execution_count": null,
      "metadata": {
        "id": "7qdROFCaaRO8"
      },
      "outputs": [],
      "source": [
        "# # Disable Arrow (workaround for Colab compatibility issue)\n",
        "# spark.conf.set(\"spark.sql.execution.arrow.pyspark.enabled\", \"false\")"
      ]
    },
    {
      "cell_type": "markdown",
      "metadata": {
        "id": "aBYz-1lbPsnC"
      },
      "source": [
        "***2. Loading the Data***\n",
        "\n",
        "This reads the CSV file located at the specified path into a DataFrame (df).\n",
        "\n",
        "header=False: This means the CSV file does not have column headers in the first row.\n",
        "\n",
        "inferSchema=True: This automatically tries to infer the data types (e.g., integer, string, etc.) for each column in the dataset."
      ]
    },
    {
      "cell_type": "code",
      "execution_count": null,
      "metadata": {
        "id": "xE4bp5860aD6"
      },
      "outputs": [],
      "source": [
        "df = spark.read.csv(\"/content/drive/My Drive/MMU/Assignments/HPC/extracted_data/ratings_Electronics (1).csv\",\n",
        "                    header=False,\n",
        "                    inferSchema=True)"
      ]
    },
    {
      "cell_type": "markdown",
      "metadata": {
        "id": "5d3_Nj5zQFoX"
      },
      "source": [
        "***3. Assigning Column Names***\n",
        "\n",
        "The CSV file you loaded doesn't have column names (since you set header=False). So, you're manually specifying the column names in a list: [\"userId\", \"productId\", \"rating\", \"timestamp\"].\n",
        "\n",
        "The toDF(*columns) method is used to rename the columns of the DataFrame to the ones you just specified."
      ]
    },
    {
      "cell_type": "code",
      "execution_count": null,
      "metadata": {
        "colab": {
          "base_uri": "https://localhost:8080/"
        },
        "id": "T6gNn38hQHY_",
        "outputId": "a993aaca-fdef-40bd-9712-1baf26c1d5d4"
      },
      "outputs": [
        {
          "name": "stdout",
          "output_type": "stream",
          "text": [
            "+--------------+----------+------+----------+\n",
            "|        userId| productId|rating| timestamp|\n",
            "+--------------+----------+------+----------+\n",
            "| AKM1MP6P0OYPR|0132793040|   5.0|1365811200|\n",
            "|A2CX7LUOHB2NDG|0321732944|   5.0|1341100800|\n",
            "|A2NWSAGRHCP8N5|0439886341|   1.0|1367193600|\n",
            "|A2WNBOD3WNDNKT|0439886341|   3.0|1374451200|\n",
            "|A1GI0U4ZRJA8WN|0439886341|   1.0|1334707200|\n",
            "+--------------+----------+------+----------+\n",
            "only showing top 5 rows\n",
            "\n"
          ]
        }
      ],
      "source": [
        "# Add column names\n",
        "columns = [\"userId\", \"productId\", \"rating\", \"timestamp\"]\n",
        "df = df.toDF(*columns)\n",
        "\n",
        "df.show(5)"
      ]
    },
    {
      "cell_type": "markdown",
      "metadata": {
        "id": "ULSeCc-SQj1r"
      },
      "source": [
        "***4. Converting Unix Timestamps to Dates***\n",
        "\n",
        "from_unixtime(col(\"timestamp\")): This function converts the Unix timestamp (timestamp column) into a human-readable date format.\n",
        "\n",
        ".withColumn(\"date\", ...): Adds a new column named \"date\" to the DataFrame, which contains the human-readable dates corresponding to the Unix timestamps."
      ]
    },
    {
      "cell_type": "code",
      "execution_count": null,
      "metadata": {
        "id": "SnjLondn1oNa"
      },
      "outputs": [],
      "source": [
        "from pyspark.sql.functions import from_unixtime, col\n",
        "\n",
        "df = df.withColumn(\"date\", from_unixtime(col(\"timestamp\")))"
      ]
    },
    {
      "cell_type": "markdown",
      "metadata": {
        "id": "BZRSzHxEQvc5"
      },
      "source": [
        "***5. Displaying Timestamp and Date***"
      ]
    },
    {
      "cell_type": "code",
      "execution_count": null,
      "metadata": {
        "colab": {
          "base_uri": "https://localhost:8080/"
        },
        "id": "Dmlm6ECXQyf0",
        "outputId": "210996d9-2ebf-4a2a-d5e9-fa7026a35e12"
      },
      "outputs": [
        {
          "name": "stdout",
          "output_type": "stream",
          "text": [
            "+----------+-------------------+\n",
            "| timestamp|               date|\n",
            "+----------+-------------------+\n",
            "|1365811200|2013-04-13 00:00:00|\n",
            "|1341100800|2012-07-01 00:00:00|\n",
            "|1367193600|2013-04-29 00:00:00|\n",
            "|1374451200|2013-07-22 00:00:00|\n",
            "|1334707200|2012-04-18 00:00:00|\n",
            "+----------+-------------------+\n",
            "only showing top 5 rows\n",
            "\n"
          ]
        }
      ],
      "source": [
        "df.select(\"timestamp\", \"date\").show(5)"
      ]
    },
    {
      "cell_type": "markdown",
      "metadata": {
        "id": "EXHNFVxbXZag"
      },
      "source": [
        "# ***Step 2: Preprocess Timestamps and Filter for Q2 2014***"
      ]
    },
    {
      "cell_type": "markdown",
      "metadata": {
        "id": "lLu-rlI5ZCgM"
      },
      "source": [
        "***Code to Filter Data for Q2 2014***\n",
        "\n",
        "Convert the Unix timestamps to human-readable dates (which you already did).\n",
        "\n",
        "Filter the data to only include reviews from Q2 2014 (i.e., from April 1, 2014, to June 30, 2014)."
      ]
    },
    {
      "cell_type": "code",
      "execution_count": null,
      "metadata": {
        "colab": {
          "base_uri": "https://localhost:8080/"
        },
        "id": "zh1wFnmhXclh",
        "outputId": "711d4d9b-17f2-47d0-ba18-12065e33431f"
      },
      "outputs": [
        {
          "name": "stdout",
          "output_type": "stream",
          "text": [
            "+--------------+----------+------+----------+----------+\n",
            "|        userId| productId|rating| timestamp|      date|\n",
            "+--------------+----------+------+----------+----------+\n",
            "|A1QGNMC6O1VW39|0511189877|   5.0|1397433600|2014-04-14|\n",
            "|A3J3BRHTDRFJ2G|0511189877|   2.0|1397433600|2014-04-14|\n",
            "| AZYNQZ94U6VDB|0511189877|   5.0|1401321600|2014-05-29|\n",
            "| AYTBGUX49LF3W|0528881469|   4.0|1398470400|2014-04-26|\n",
            "|A3ILG56NE5QU37|0594033896|   5.0|1399420800|2014-05-07|\n",
            "+--------------+----------+------+----------+----------+\n",
            "only showing top 5 rows\n",
            "\n"
          ]
        }
      ],
      "source": [
        "# Filter data for Q2 2014 (April 1, 2014 to June 30, 2014)\n",
        "dfQ2 = df.withColumn(\"date\", from_unixtime(col(\"timestamp\"), \"yyyy-MM-dd\")) \\\n",
        "         .filter(col(\"date\").between(\"2014-04-01\", \"2014-06-30\"))\n",
        "\n",
        "# Show the first 5 rows after filtering\n",
        "dfQ2.show(5)"
      ]
    },
    {
      "cell_type": "markdown",
      "metadata": {
        "id": "ayQLzis9dFY3"
      },
      "source": [
        "# ***Step 3: Categorizing Products Based on Ratings.***"
      ]
    },
    {
      "cell_type": "markdown",
      "metadata": {
        "id": "M15c1h5odGye"
      },
      "source": [
        "***Code to Categorize Products***\n",
        "\n",
        "Group the data by productId.\n",
        "\n",
        "Check if a product has any rating of ≥ 3.\n",
        "\n",
        "Create two groups:\n",
        "\n",
        "Group 1: Products with at least one rating ≥ 3.\n",
        "\n",
        "Group 2: Products with all ratings < 3."
      ]
    },
    {
      "cell_type": "markdown",
      "metadata": {
        "id": "A0tjuka9eNUF"
      },
      "source": [
        "Explanation:\n",
        "groupBy(\"productId\")\n",
        "\n",
        "This groups the data by productId to ensure you categorize products individually.\n",
        "\n",
        "max(when(col(\"rating\") >= 3, 1).otherwise(0))\n",
        "\n",
        "This checks if any rating for a given product is ≥ 3.\n",
        "\n",
        "when(col(\"rating\") >= 3, 1) means if a rating is ≥ 3, we assign a 1, otherwise, we assign a 0.\n",
        "\n",
        "max(...): Takes the maximum value for each product — if there’s any 1 (i.e., a rating ≥ 3), the result will be 1, indicating the product belongs to Group 1. Otherwise, it will be 0, meaning the product is in Group 2.\n",
        "\n",
        "withColumn(\"group\", when(col(\"has_high_rating\") == 1, \"Group1\").otherwise(\"Group2\"))\n",
        "\n",
        "Based on the value of has_high_rating, it assigns the product to either Group 1 or Group 2.\n",
        "\n",
        "productGroups.show(5)\n",
        "\n",
        "This displays the first 5 rows of the categorized products so you can verify the results."
      ]
    },
    {
      "cell_type": "code",
      "execution_count": null,
      "metadata": {
        "colab": {
          "base_uri": "https://localhost:8080/"
        },
        "id": "X6RH_a29dTKr",
        "outputId": "ac5999f7-d373-4583-e430-4ca13e374b8f"
      },
      "outputs": [
        {
          "name": "stdout",
          "output_type": "stream",
          "text": [
            "+----------+---------------+------+\n",
            "| productId|has_high_rating| group|\n",
            "+----------+---------------+------+\n",
            "|7793224531|              1|Group1|\n",
            "|9966694242|              1|Group1|\n",
            "|9967222247|              1|Group1|\n",
            "|B000000O3J|              1|Group1|\n",
            "|B00000J0IV|              1|Group1|\n",
            "+----------+---------------+------+\n",
            "only showing top 5 rows\n",
            "\n"
          ]
        }
      ],
      "source": [
        "from pyspark.sql.functions import max, when\n",
        "\n",
        "# Group by productId and check if any rating >= 3\n",
        "productGroups = dfQ2.groupBy(\"productId\") \\\n",
        "    .agg(\n",
        "        max(when(col(\"rating\") >= 3, 1).otherwise(0)).alias(\"has_high_rating\")\n",
        "    ) \\\n",
        "    .withColumn(\"group\", when(col(\"has_high_rating\") == 1, \"Group1\").otherwise(\"Group2\"))\n",
        "\n",
        "# Show the first 5 rows of categorized products\n",
        "productGroups.show(5)"
      ]
    },
    {
      "cell_type": "markdown",
      "metadata": {
        "id": "HoVWmYp7e0uw"
      },
      "source": [
        "# ***Step 4: Calculating the Number of Reviews per Product.***"
      ]
    },
    {
      "cell_type": "markdown",
      "metadata": {
        "id": "LSBo0j0YmXP4"
      },
      "source": [
        "***Code to Calculate Review Counts***\n",
        "\n",
        "Group the data by productId and calculate how many reviews each product has received.\n",
        "\n",
        "Join the review count with the product categorization (Group 1 and Group 2)."
      ]
    },
    {
      "cell_type": "code",
      "execution_count": null,
      "metadata": {
        "colab": {
          "base_uri": "https://localhost:8080/"
        },
        "id": "GK048Qd2e5ga",
        "outputId": "c2b804e1-2728-4b35-d2f6-c5807134da2e"
      },
      "outputs": [
        {
          "name": "stdout",
          "output_type": "stream",
          "text": [
            "+----------+---------------+------+------------+\n",
            "| productId|has_high_rating| group|review_count|\n",
            "+----------+---------------+------+------------+\n",
            "|7793224531|              1|Group1|           1|\n",
            "|9966694242|              1|Group1|           2|\n",
            "|9967222247|              1|Group1|           1|\n",
            "|B000000O3J|              1|Group1|           1|\n",
            "|B00000J0IV|              1|Group1|           1|\n",
            "+----------+---------------+------+------------+\n",
            "only showing top 5 rows\n",
            "\n"
          ]
        }
      ],
      "source": [
        " # Count the number of reviews per product\n",
        "reviewCounts = dfQ2.groupBy(\"productId\") \\\n",
        "    .agg(count(\"*\").alias(\"review_count\"))\n",
        "\n",
        "# Join the review counts with the categorized products\n",
        "finalData = productGroups.join(reviewCounts, \"productId\")\n",
        "\n",
        "# Show the first 5 rows of the final data\n",
        "finalData.show(5)"
      ]
    },
    {
      "cell_type": "code",
      "execution_count": null,
      "metadata": {
        "colab": {
          "base_uri": "https://localhost:8080/"
        },
        "id": "NOgh7zQ03OQK",
        "outputId": "6fee6c3e-a749-4d2b-b143-e4e8ecc744e0"
      },
      "outputs": [
        {
          "name": "stdout",
          "output_type": "stream",
          "text": [
            "Products with only 1 review: 66200\n"
          ]
        }
      ],
      "source": [
        "# Check for products with only 1 review (edge case)\n",
        "single_review_products = dfQ2.groupBy(\"productId\").agg(count(\"*\").alias(\"count\")).filter(col(\"count\") == 1)\n",
        "print(f\"Products with only 1 review: {single_review_products.count()}\")"
      ]
    },
    {
      "cell_type": "code",
      "execution_count": null,
      "metadata": {
        "colab": {
          "base_uri": "https://localhost:8080/"
        },
        "id": "6qevz9j84anv",
        "outputId": "943ef767-04ae-4d73-a8fd-895227716b96"
      },
      "outputs": [
        {
          "name": "stdout",
          "output_type": "stream",
          "text": [
            "+------------+-------------+\n",
            "|review_count|product_count|\n",
            "+------------+-------------+\n",
            "|           1|        66200|\n",
            "|           2|        18740|\n",
            "|           3|         9061|\n",
            "|           4|         5464|\n",
            "|           5|         3537|\n",
            "+------------+-------------+\n",
            "\n"
          ]
        }
      ],
      "source": [
        "low_review_distribution = dfQ2.groupBy(\"productId\").agg(count(\"*\").alias(\"count\")) \\\n",
        "                             .filter(col(\"count\") <= 5) \\\n",
        "                             .groupBy(\"count\").agg(count(\"*\").alias(\"product_count\")) \\\n",
        "                             .orderBy(\"count\") \\\n",
        "                             .withColumnRenamed(\"count\", \"review_count\")\n",
        "\n",
        "low_review_distribution.show()"
      ]
    },
    {
      "cell_type": "markdown",
      "metadata": {
        "id": "y_wVktUa5hx4"
      },
      "source": [
        "***Step for: Mann-Whitney U test***"
      ]
    },
    {
      "cell_type": "code",
      "execution_count": null,
      "metadata": {
        "colab": {
          "base_uri": "https://localhost:8080/"
        },
        "id": "pnFzurS46NoL",
        "outputId": "66073ecd-c584-425e-a1bc-36d57592eea2"
      },
      "outputs": [
        {
          "name": "stdout",
          "output_type": "stream",
          "text": [
            "Mann-Whitney U test p-value: 0.0000\n",
            "Statistically significant difference between groups.\n"
          ]
        }
      ],
      "source": [
        "from scipy.stats import mannwhitneyu\n",
        "\n",
        "# Perform Mann-Whitney U test\n",
        "stat, p_value = mannwhitneyu(group1_reviews, group2_reviews)\n",
        "print(f\"Mann-Whitney U test p-value: {p_value:.4f}\")\n",
        "\n",
        "if p_value < 0.05:\n",
        "    print(\"Statistically significant difference between groups.\")\n",
        "else:\n",
        "    print(\"No statistically significant difference between groups.\")"
      ]
    },
    {
      "cell_type": "markdown",
      "metadata": {
        "id": "GcxZ3XuI9c8R"
      },
      "source": [
        "***Step for: Graph***"
      ]
    },
    {
      "cell_type": "code",
      "execution_count": null,
      "metadata": {
        "id": "8YpxZW6G6SEV"
      },
      "outputs": [],
      "source": [
        "import numpy as np\n",
        "\n",
        "group1_log = np.log1p(group1_reviews)  # log(1 + x) to handle zeros\n",
        "group2_log = np.log1p(group2_reviews)"
      ]
    },
    {
      "cell_type": "code",
      "execution_count": null,
      "metadata": {
        "colab": {
          "base_uri": "https://localhost:8080/"
        },
        "id": "MmEtugaM89OQ",
        "outputId": "908c3bba-4379-4a8c-f370-5945bc1ffe03"
      },
      "outputs": [
        {
          "name": "stdout",
          "output_type": "stream",
          "text": [
            "Group 1 median: 2.0, Group 2 median: 1.0\n"
          ]
        }
      ],
      "source": [
        "print(f\"Group 1 median: {np.median(group1_reviews)}, Group 2 median: {np.median(group2_reviews)}\")"
      ]
    },
    {
      "cell_type": "code",
      "execution_count": null,
      "metadata": {
        "colab": {
          "background_save": true,
          "base_uri": "https://localhost:8080/"
        },
        "id": "COdgMKze9O-U",
        "outputId": "5a9ab8a8-f5bf-46fa-f592-16e23bc292bc"
      },
      "outputs": [
        {
          "name": "stderr",
          "output_type": "stream",
          "text": [
            "<ipython-input-126-41ae5b6fab9f>:2: FutureWarning: \n",
            "\n",
            "Passing `palette` without assigning `hue` is deprecated and will be removed in v0.14.0. Assign the `x` variable to `hue` and set `legend=False` for the same effect.\n",
            "\n",
            "  sns.boxplot(x=['Group 1']*len(group1_reviews) + ['Group 2']*len(group2_reviews),\n"
          ]
        }
      ],
      "source": [
        "plt.figure(figsize=(10, 6))\n",
        "sns.boxplot(x=['Group 1']*len(group1_reviews) + ['Group 2']*len(group2_reviews),\n",
        "            y=list(group1_reviews) + list(group2_reviews),\n",
        "            palette=['skyblue', 'salmon'])\n",
        "sns.swarmplot(x=['Group 1']*len(group1_reviews) + ['Group 2']*len(group2_reviews),\n",
        "              y=list(group1_reviews) + list(group2_reviews),\n",
        "              color='black', alpha=0.3, size=3)  # Optional: show all points\n",
        "plt.yscale('log')\n",
        "plt.ylabel('Review Count (log scale)')\n",
        "plt.title('Review Count Distribution: Group 1 vs. Group 2')\n",
        "plt.show()"
      ]
    },
    {
      "cell_type": "code",
      "execution_count": null,
      "metadata": {
        "id": "PbH0cAdA9tzU"
      },
      "outputs": [],
      "source": [
        "plt.figure(figsize=(10, 6))\n",
        "sns.ecdfplot(data=group1_reviews, label='Group 1', color='skyblue')\n",
        "sns.ecdfplot(data=group2_reviews, label='Group 2', color='salmon')\n",
        "plt.xlabel('Review Count')\n",
        "plt.ylabel('Proportion of Users')\n",
        "plt.title('Cumulative Distribution of Reviews')\n",
        "plt.legend()\n",
        "plt.show()"
      ]
    },
    {
      "cell_type": "markdown",
      "metadata": {
        "id": "E2KVE_6unOx7"
      },
      "source": [
        "# ***Step 5: Perform Statistical Test (t-test)***"
      ]
    },
    {
      "cell_type": "markdown",
      "metadata": {
        "id": "wQGbrpTxnTl3"
      },
      "source": [
        "***Code to Perform the T-Test (Using Pandas and SciPy)***\n",
        "\n",
        "You’ll extract the review_count values for both Group 1 and Group 2.\n",
        "\n",
        "Perform a t-test to check if the difference in the number of reviews per product between the two groups is statistically significant."
      ]
    },
    {
      "cell_type": "markdown",
      "metadata": {
        "id": "ibu7YhixtoyL"
      },
      "source": [
        "The t-statistic (21.62) is very high, indicating that this difference is really large.\n",
        "\n",
        "The p-value is extremely small (0), which means the difference in reviews between the two groups is statistically significant — meaning we can be almost certain that this difference is not due to random chance.\n",
        "\n",
        "Below test shows that products with higher ratings (≥ 3) tend to have significantly more reviews than those with lower ratings (< 3). This difference is real and not just a random occurrence."
      ]
    },
    {
      "cell_type": "code",
      "execution_count": null,
      "metadata": {
        "colab": {
          "base_uri": "https://localhost:8080/"
        },
        "id": "RTBoiBCVmePD",
        "outputId": "8be53123-375e-4d6d-9f03-2664579a9371"
      },
      "outputs": [
        {
          "name": "stdout",
          "output_type": "stream",
          "text": [
            "+------+------+-----------------+------------------+\n",
            "| group|     n|             mean|            stddev|\n",
            "+------+------+-----------------+------------------+\n",
            "|Group2| 14735|1.141364099083814|0.5388742029934758|\n",
            "|Group1|107281|6.032717815829457|27.467639281255813|\n",
            "+------+------+-----------------+------------------+\n",
            "\n"
          ]
        }
      ],
      "source": [
        "from pyspark.sql.functions import avg, stddev, count\n",
        "\n",
        "# Step 1: Compute group stats in Spark\n",
        "group_stats = finalData.groupBy(\"group\").agg(\n",
        "    count(\"review_count\").alias(\"n\"),\n",
        "    avg(\"review_count\").alias(\"mean\"),\n",
        "    stddev(\"review_count\").alias(\"stddev\")\n",
        ")\n",
        "\n",
        "group_stats.show()"
      ]
    },
    {
      "cell_type": "code",
      "execution_count": null,
      "metadata": {
        "id": "JREVDbjuoGWa"
      },
      "outputs": [],
      "source": [
        "# Collect data from Spark to Python\n",
        "data = finalData.select(\"group\", \"review_count\").collect()\n",
        "\n",
        "# Convert to a Pandas DataFrame manually\n",
        "import pandas as pd\n",
        "finalData_pd = pd.DataFrame(data, columns=[\"group\", \"review_count\"])"
      ]
    },
    {
      "cell_type": "code",
      "execution_count": null,
      "metadata": {
        "colab": {
          "base_uri": "https://localhost:8080/"
        },
        "id": "NR4a9nX1g4jB",
        "outputId": "78dbaae6-a1c4-482d-afdb-ba765efcdf04"
      },
      "outputs": [
        {
          "name": "stdout",
          "output_type": "stream",
          "text": [
            "T-statistic: 21.615724227746018, P-value: 2.0001809061110027e-103\n"
          ]
        }
      ],
      "source": [
        "# Separate the data into two groups\n",
        "group1_reviews = finalData_pd[finalData_pd['group'] == 'Group1']['review_count']\n",
        "group2_reviews = finalData_pd[finalData_pd['group'] == 'Group2']['review_count']\n",
        "\n",
        "# Perform t-test\n",
        "\n",
        "t_stat, p_value = stats.ttest_ind(group1_reviews, group2_reviews)\n",
        "\n",
        "# Display the t-statistic and p-value\n",
        "print(f\"T-statistic: {t_stat}, P-value: {p_value}\")"
      ]
    },
    {
      "cell_type": "markdown",
      "metadata": {
        "id": "9D5oBZCjP7Me"
      },
      "source": [
        "# ***Test I Used***"
      ]
    },
    {
      "cell_type": "markdown",
      "metadata": {
        "id": "Tx0yv5v_P7cV"
      },
      "source": [
        "---\n",
        "\n",
        "### 🔵 My Original Hypothesis:\n",
        "> \"In the second quarter of 2014, products given a review rating of 3 or more are significantly different compared to other products.\"\n",
        "\n",
        "### 🟢 Problem with the original hypothesis:\n",
        "- It’s **vague**:  \n",
        "  - \"Significantly different\" — **different in what way?** (Sales? Ratings? Number of reviews? Nothing specific.)\n",
        "- It’s **unclear** what the measurable metric is.\n",
        "- \"Products given a rating of 3 or more\" — **individual reviews** are considered, but I need to decide at the **product level**.\n",
        "\n",
        "---\n",
        "\n",
        "### 🟢 Refined Hypothesis I am testing:\n",
        "### 🔵 Clarification on Product-Level Aggregation:\n",
        "- **Group 1**: Products with **at least one rating ≥3**.  \n",
        "- **Group 2**: Products with **all ratings <3**.  \n",
        "- This ensures the hypothesis is tested at the **product level**, not individual reviews.  \n",
        "\n",
        "✅ This refined hypothesis is:\n",
        "- **Clear**: I am comparing the **number of reviews** per product.\n",
        "- **Measurable**: I have the `review_count` metric.\n",
        "- **Actionable**: It divides products into two groups and compares them.\n",
        "\n",
        "---\n",
        "\n",
        "### ⚡ Which statistical test should I use?\n",
        "\n",
        "**I am using an Independent Two-Sample t-test** (also called an **unpaired t-test**) because:\n",
        "- I have **two independent groups** (Group 1 and Group 2).\n",
        "- I am comparing their **means** (average number of reviews).\n",
        "- I want to know if the difference between means is statistically significant.\n",
        "\n",
        "---\n",
        "\n",
        "### 🧠 Summary Table:\n",
        "\n",
        "| Aspect                     | Original Hypothesis                                          | Refined Hypothesis                                              |\n",
        "|-----------------------------|--------------------------------------------------------------|------------------------------------------------------------------|\n",
        "| Clarity                     | Vague (\"significantly different\" is unclear)                | Clear (\"review count difference\")                               |\n",
        "| Measurement                 | Not specified                                               | Number of reviews per product                                   |\n",
        "| Testing Approach            | Not clear                                                   | Two-Sample Independent **t-test**                               |\n",
        "| Groups                      | Products with reviews ≥3 vs others (but not defined properly) | Products with at least one rating ≥3 vs. all ratings <3          |\n",
        "\n",
        "---\n",
        "\n",
        "### 🔥 So Final Answer:\n",
        "- **Statistical Test Used:** **Two-Sample Independent t-test** (comparing means of two independent groups)\n",
        "- **Why:** To check if the **mean number of reviews per product** is significantly different between the two groups.\n",
        "\n",
        "---"
      ]
    },
    {
      "cell_type": "markdown",
      "metadata": {
        "id": "W4mja7As-Kgj"
      },
      "source": [
        "# ***Limitations***"
      ]
    },
    {
      "cell_type": "markdown",
      "metadata": {
        "id": "3bAY8qyg97P-"
      },
      "source": [
        "### 🔴 Limitations and Future Work:\n",
        "1. **Causation vs. Correlation**:  \n",
        "   - Review count ≠ product popularity (no sales data).  \n",
        "2. **Metadata Gaps**:  \n",
        "   - Missing product categories/pricing to control for confounding variables.  \n",
        "3. **Temporal Bias**:  \n",
        "   - Only Q2 2014 data analyzed; trends may vary annually.  \n",
        "4. **Non-Normal Data**:  \n",
        "   - Review counts are right-skewed; Mann-Whitney U test may be more robust.  \n",
        "\n",
        "**Future Work**:  \n",
        "- Include sentiment analysis of reviews.  \n",
        "- Compare with sales/price data if available.  "
      ]
    }
  ],
  "metadata": {
    "colab": {
      "collapsed_sections": [
        "W4mja7As-Kgj"
      ],
      "provenance": []
    },
    "kernelspec": {
      "display_name": "Python 3",
      "name": "python3"
    },
    "language_info": {
      "name": "python"
    }
  },
  "nbformat": 4,
  "nbformat_minor": 0
}