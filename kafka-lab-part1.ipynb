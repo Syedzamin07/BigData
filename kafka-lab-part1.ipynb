{
  "cells": [
    {
      "cell_type": "markdown",
      "metadata": {
        "id": "WQ1kxYoWlrc9"
      },
      "source": [
        "# Big Data Lab Manual 2024 / 25 (Week 4)\n",
        "\n",
        "## Week 4: Kafka for Real-Time Data Ingestion\n",
        "\n",
        "Topics to be covered in this week's lab includes:\n",
        "\n",
        "- Kafka Architecture (Brokers, Zookeeper, Topics, Partitions)\n",
        "- Producers and Consumers\n",
        "- Streaming Data from APIs (e.g., OpenWeatherMap)\n",
        "- Integrating Kafka with Spark Structured Streaming\n",
        "\n",
        "## Learning Outcomes\n",
        "\n",
        "- Understand real-time streaming fundamentals with Kafka\n",
        "- Create Kafka producers and consumers in Azure\n",
        "- Integrate Kafka with Spark for streaming analytics\n",
        "\n",
        "## Dataset and URL\n",
        "\n",
        "- **Dataset**: Real-time data from [OpenWeatherMap API](https://openweathermap.org/current) (Signup: openweathermap.org)\n",
        "  - We simulate streaming by fetching weather data via the API and pushing JSON to Kafka."
      ]
    },
    {
      "cell_type": "markdown",
      "metadata": {
        "id": "WAqQZ7Q1lrdA"
      },
      "source": [
        "## Lab Environment Setup in Azure\n",
        "\n",
        "> As we have done in previous weeks, you should SSH into the Kafka cluster before you proceed. See previous labs if you are unsure of how to do this again."
      ]
    },
    {
      "cell_type": "markdown",
      "metadata": {
        "id": "Ao7z362rlrdA"
      },
      "source": [
        "## Install Kafka & Zookeeper (This should be done first before proceeding with the labs)\n",
        "\n",
        "1. **Download Kafka** (check https://downloads.apache.org/kafka for stable version)"
      ]
    },
    {
      "cell_type": "code",
      "execution_count": null,
      "metadata": {
        "id": "RQTJZdQllrdB"
      },
      "outputs": [],
      "source": [
        "!wget https://downloads.apache.org/kafka/3.9.0/kafka_2.12-3.9.0.tgz\n",
        "!tar -xzf kafka_2.12-3.9.0.tgz\n",
        "!sudo mv kafka_2.12-3.9.0 /usr/local/kafka"
      ]
    },
    {
      "cell_type": "markdown",
      "metadata": {
        "id": "ps2lU7SylrdC"
      },
      "source": [
        "2. **Set Kafka environment variables**:\n",
        "\n",
        "First, add environment variables to your .bashrc file, then export them to the current session:"
      ]
    },
    {
      "cell_type": "code",
      "execution_count": null,
      "metadata": {
        "id": "0d3y1nF-lrdC"
      },
      "outputs": [],
      "source": [
        "!echo \"export KAFKA_HOME=/usr/local/kafka\" >> ~/.bashrc\n",
        "!echo \"export PATH=\\$PATH:\\$KAFKA_HOME/bin\" >> ~/.bashrc\n",
        "\n",
        "# Export for current session\n",
        "import os\n",
        "os.environ[\"KAFKA_HOME\"] = \"/usr/local/kafka\"\n",
        "os.environ[\"PATH\"] = os.environ[\"PATH\"] + \":\" + os.environ[\"KAFKA_HOME\"] + \"/bin\"\n",
        "\n",
        "print(\"Environment variables set for this session.\")"
      ]
    },
    {
      "cell_type": "markdown",
      "metadata": {
        "id": "WzJaGxJllrdC"
      },
      "source": [
        "3. **Install Zookeeper**"
      ]
    },
    {
      "cell_type": "code",
      "execution_count": null,
      "metadata": {
        "id": "Tu2nfhV_lrdC"
      },
      "outputs": [],
      "source": [
        "!sudo apt-get update\n",
        "!sudo apt-get install -y zookeeper"
      ]
    },
    {
      "cell_type": "markdown",
      "metadata": {
        "id": "d8gRZVMwlrdD"
      },
      "source": [
        "4. **Set Zookeeper environment variables**:"
      ]
    },
    {
      "cell_type": "code",
      "execution_count": null,
      "metadata": {
        "id": "xTqoRJ6elrdD"
      },
      "outputs": [],
      "source": [
        "!echo \"export ZOOKEEPER_HOME=/usr/share/zookeeper\" >> ~/.bashrc\n",
        "!echo \"export PATH=\\$PATH:\\$ZOOKEEPER_HOME/bin\" >> ~/.bashrc\n",
        "\n",
        "# Export for current session\n",
        "import os\n",
        "os.environ[\"ZOOKEEPER_HOME\"] = \"/usr/share/zookeeper\"\n",
        "os.environ[\"PATH\"] = os.environ[\"PATH\"] + \":\" + os.environ[\"ZOOKEEPER_HOME\"] + \"/bin\"\n",
        "\n",
        "print(\"Zookeeper environment variables set for this session.\")"
      ]
    },
    {
      "cell_type": "markdown",
      "metadata": {
        "id": "caCU1nK7lrdD"
      },
      "source": [
        "5. **Start Zookeeper and Kafka**:\n",
        "\n",
        "**Note**: Using full paths to avoid command not found errors"
      ]
    },
    {
      "cell_type": "code",
      "execution_count": null,
      "metadata": {
        "id": "un6D7FGYlrdD"
      },
      "outputs": [],
      "source": [
        "# Start Zookeeper first\n",
        "!sudo /usr/share/zookeeper/bin/zkServer.sh start\n",
        "\n",
        "# Add a short delay to ensure Zookeeper is fully started\n",
        "!sleep 5\n",
        "\n",
        "# Start Kafka using the full path\n",
        "!/usr/local/kafka/bin/kafka-server-start.sh -daemon /usr/local/kafka/config/server.properties\n",
        "\n",
        "# Add a short delay to ensure Kafka is fully started\n",
        "!sleep 5\n",
        "\n",
        "print(\"Zookeeper and Kafka started.\")"
      ]
    },
    {
      "cell_type": "markdown",
      "metadata": {
        "id": "Y7yklLvQlrdD"
      },
      "source": [
        "6. **Verify processes are running**:\n",
        "\n",
        "Use jps to check for:\n",
        "- Kafka process\n",
        "- QuorumPeerMain (Zookeeper process)"
      ]
    },
    {
      "cell_type": "code",
      "execution_count": null,
      "metadata": {
        "id": "Rly_KONIlrdE"
      },
      "outputs": [],
      "source": [
        "!jps"
      ]
    },
    {
      "cell_type": "markdown",
      "metadata": {
        "id": "IRdh3HUwlrdE"
      },
      "source": [
        "**You are now ready to proceed with the labs!**\n",
        "\n",
        "## Create Kafka Topic:\n",
        "\n",
        "Using full path to the Kafka command to ensure it works:"
      ]
    },
    {
      "cell_type": "code",
      "execution_count": null,
      "metadata": {
        "id": "Ud9QoOLAlrdE"
      },
      "outputs": [],
      "source": [
        "!/usr/local/kafka/bin/kafka-topics.sh --create --bootstrap-server localhost:9092 --replication-factor 1 --partitions 3 --topic weatherTopic"
      ]
    },
    {
      "cell_type": "markdown",
      "metadata": {},
      "source": [
        "## Verify that the topic was created"
      ]
    },
    {
      "cell_type": "code",
      "execution_count": null,
      "metadata": {},
      "outputs": [],
      "source": [
        "!/usr/local/kafka/bin/kafka-topics.sh --list --bootstrap-server localhost:9092"
      ]
    },
    {
      "cell_type": "markdown",
      "metadata": {},
      "source": [
        "## Next Steps\n",
        "\n",
        "Now that Kafka and Zookeeper are properly set up, you can proceed with the next part of the lab which involves creating producers and consumers for the weather data stream."
      ]
    }
  ],
  "metadata": {
    "kernelspec": {
      "display_name": "Python 3",
      "language": "python",
      "name": "python3"
    },
    "language_info": {
      "codemirror_mode": {
        "name": "ipython",
        "version": 3
      },
      "file_extension": ".py",
      "mimetype": "text/x-python",
      "name": "python",
      "nbconvert_exporter": "python",
      "pygments_lexer": "ipython3",
      "version": "3.8.10"
    },
    "colab": {
      "provenance": []
    }
  },
  "nbformat": 4,
  "nbformat_minor": 0
}